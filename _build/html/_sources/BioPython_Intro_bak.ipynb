{
 "cells": [
  {
   "cell_type": "markdown",
   "metadata": {},
   "source": [
    "## Introduction to BioPython"
   ]
  },
  {
   "cell_type": "markdown",
   "metadata": {},
   "source": [
    "Python offers a variety of functions to work with text data (Strings) that make it easier to work with biological data such as DNA or protein sequences. BioPython library provides a set of classes that dedicated to parsing and analysis of different type of biological data. The functions avaiable in BioPython helps researcher to progammatically process the data. Below we'll see some of the features in Biopython for working with sequence and structure data. To install Biopython library run `pip install biopython`. For more details regarding Biopython installation and tutorials, please refer to the [Biopython wiki](https://biopython.org/wiki/Biopython2)."
   ]
  },
  {
   "cell_type": "markdown",
   "metadata": {},
   "source": [
    "To check the version of Biopython, run the following command."
   ]
  },
  {
   "cell_type": "code",
   "execution_count": 1,
   "metadata": {},
   "outputs": [
    {
     "name": "stdout",
     "output_type": "stream",
     "text": [
      "1.78\n"
     ]
    }
   ],
   "source": [
    "import Bio\n",
    "print(Bio.__version__)"
   ]
  },
  {
   "cell_type": "markdown",
   "metadata": {},
   "source": [
    "### Sequence Object\n",
    "To work with sequences, we'll need the `Bio.Seq` class which has the required functions for reading and writing sequence data. Once we have imported this class we can create objects having required data. The example below shows constructing a sequence object with a DNA sequence and then using the `complement()` and `translate()` functions to find the sequence of the complementary strand and the translated protein sequence, respectively. "
   ]
  },
  {
   "cell_type": "code",
   "execution_count": 4,
   "metadata": {},
   "outputs": [
    {
     "name": "stdout",
     "output_type": "stream",
     "text": [
      "Original sequence: AATTGGAACCTT\n",
      "The sequence for the complementary strand is:  TTAACCTTGGAA\n",
      "The translated protein sequence would be:  NWNL\n"
     ]
    }
   ],
   "source": [
    "from Bio.Seq import Seq\n",
    "new_seqeunce = Seq('AATTGGAACCTT')\n",
    "print(\"Original sequence:\", new_seqeunce)\n",
    "print(\"The sequence for the complementary strand is: \",new_seqeunce.complement())\n",
    "print(\"The translated protein sequence would be: \",new_seqeunce.translate())"
   ]
  },
  {
   "cell_type": "markdown",
   "metadata": {},
   "source": [
    "To create a sequence object by reading sequence from a file, we can use the `SeqIO` class. The `parse()` function in this class can read and write sequences in different formats. This function take two arguments - file name and format, and return an iterator having all the sequences. The code below shows reading a file having multiple sequences and printing the sequences using the seq attribute. Note that this would print sequnces without any annotations. The `description` attribute of SeqIO object can used to print the description of a sequence as given in the input file. The sequence file used in the code below is available [here](https://doi.org/10.1371/journal.pcbi.1005975.s002).  "
   ]
  },
  {
   "cell_type": "code",
   "execution_count": 3,
   "metadata": {},
   "outputs": [
    {
     "name": "stdout",
     "output_type": "stream",
     "text": [
      "consensus seq\n",
      "YELLKVL-GKGAFGE--------------------------------------------------------------------V-Y---KAR-D-----------KD-------------------T------G-----E--E--VAVKV----LK-K---G----E-SS----------------K--K-R--K-------------E-------F-LR-EIKI-LKK------L------------------R--------H---PNIVRLYGVF-----------Q-----E-D----------E----D----P----LY--------LVME-YM-------P-GG----SLFD---L---L-R---K--R---R------------------------------------------------------------------------------G-------L-------S-E-------KTLRFIAAQIASGLEYLH-S-K-GI---------IHRDLKPENIL---L--------D--------------------------S------------------D-G-HVKLADF---GL---AR-----------E-----------L-Y----------S---D-------D---------------------------------G-Y--R-------------------T----------T-----T-FVG-T----P-------------------RY--MAPEV--L---------L-------G-------------GG--Y-SKKSDVWSL---GVLLYELLTG---------G--K---P-----P-F------P----G-E-------S---------------NE---E----LL----E-----------KIL------K---------------------G--------------------Y----------------------R---------------------L---P-I-P---E--P----D----C-----S-----P--E---AK---DLIKK--------CLQK-DPEKRPT\n",
      "sp|Q22RR1||agc:agc-sar|Tetrahymena sp|Q22RR1||agc:agc-sar|Tetrahymena\n",
      "LVYIKEL-GRGNFGS--------------------------------------------------------------------V-N---LVN-E-----------KQ-------------------K------D-----R--L--FAMKV----FI-S---N----Y-IFqr--------------G--I-E--K-------------Y-------I-LR-EKST-LQK------C------------------N--------F---PFIMRYYRSF-----------Y-------D----------N----Y----H----IY--------FMNE-FI-------N-GM----DFFT---V---M-R---E--V---G------------------------------------------------------------------------------L-------F-------N-K-------QQAQFYTAFIILTLQYLN-N-Q-GI---------VYRDLKPENIL---I--------D--------------------------H------------------E-G-WPKLVDM---GT---AK-----------Y-----------L------------Y---D-------Kn--------------------------------Q-Q--L-------------------T----------Rty---S-LVG-T----P-------------------HY--MAPEV--I---------Q-------Q-------------KG--Y-GFAVDIYSL---GVILYELLV----------G--Y---L-----P-Y------Ged--V-D-------D---------------PI---E----VY----Q-----------LIL------E---------------------G-------------------------------------------R---------------------L---G-F-P---N--H----M----K-----N-----R--L---SK---KLISQ--------LMAK-SPEVRLG\n",
      "sp|Q234E6||agc:agc-sar|Tetrahymena sp|Q234E6||agc:agc-sar|Tetrahymena\n",
      "LIVIKKL-GFGQFGS--------------------------------------------------------------------V-F---LVK-E-----------KG-------------------K------K-----K--L--YGLKC----VS-K---A----Q-VVeq--------------S--L-E--K-------------H-------I-QN-EKQV-MEF------N------------------N--------F---PFVMKFLRSF-----------K-------D----------D----R----C----IY--------FLLE-FI-------Q-GM----ELFD---V---I-R---E--I---G------------------------------------------------------------------------------L-------L-------S-T-------YDSQFYIGSLILTLEYLH-S-N-YI---------IYRDIKPENIM---V--------D--------------------------H------------------A-G-YLKLIDM---GT---AK-----------I-----------M------------K---S-------Ka--------------------------------G-T--V-------------------T----------Rtf---T-IIG-T----P-------------------HY--MAPEV--I---------S-------G-------------KG--Y-NFLVDLWSV---GICLYEFMC----------G--Y---V-----P-F------Aee--A-E-------D---------------PY---E----IY----E-----------EII------K---------------------K-------------------------------------------E---------------------I---Q-F-P---A--Y----M----K-----D-----A--V---AK---QLMLQ--------LLNK-IPEIRLG\n"
     ]
    }
   ],
   "source": [
    "from Bio import SeqIO\n",
    "count=0\n",
    "for all_seqs in SeqIO.parse(\"kinases.txt\", \"fasta\"):\n",
    "    print(all_seqs.description)\n",
    "    print(all_seqs.seq)\n",
    "    count += 1\n",
    "    if(count == 3):\n",
    "        break"
   ]
  },
  {
   "cell_type": "markdown",
   "metadata": {},
   "source": [
    "The `write()` function takes three arguments &mdash; 1) a sequence object, 2) filename, and 3) file format. The code below reads a fasta file with multiple sequences and then save the first 10 sequences in a new file. "
   ]
  },
  {
   "cell_type": "code",
   "execution_count": 4,
   "metadata": {},
   "outputs": [
    {
     "data": {
      "text/plain": [
       "10"
      ]
     },
     "execution_count": 4,
     "metadata": {},
     "output_type": "execute_result"
    }
   ],
   "source": [
    "all_seqs = []\n",
    "for seq_record in SeqIO.parse(\"kinases.txt\", \"fasta\"):\n",
    "    all_seqs.append(seq_record)\n",
    "SeqIO.write(all_seqs[0:10],\"test.aln\",\"clustal\")\n"
   ]
  },
  {
   "cell_type": "markdown",
   "metadata": {},
   "source": [
    "### Multiple Sequence Alignment"
   ]
  },
  {
   "cell_type": "markdown",
   "metadata": {},
   "source": [
    "The `AlignIO` class has functions to parse alignment files. The `read()` and `write()` functions have a similar syntax to the corresponding functions in the `SeqIO` class. The alignment object stores sequences in 2D array format such that the rows are number of sequences and columns represent alignment length. To extract a sub-set of an alignment, slicing feature can be used. The code below shows reading an alignment file in fasta format followed by selecting a portion of this alignment and save it in a new file in clustal format. The subset is extracted by giving the range for the rows and columns within square brackets. The numbering for both rows and columns starts with zero. In the example below first ten sequences in the alignment are selected since range of rows is `:10` and the colums range is `3:12`. "
   ]
  },
  {
   "cell_type": "code",
   "execution_count": 7,
   "metadata": {},
   "outputs": [
    {
     "name": "stdout",
     "output_type": "stream",
     "text": [
      "Alignment with 10 rows and 9 columns\n",
      "LKVL-GKGA consensus\n",
      "IKEL-GRGN sp|Q22RR1||agc:agc-sar|Tetrahymena\n",
      "IKKL-GFGQ sp|Q234E6||agc:agc-sar|Tetrahymena\n",
      "VKKL-GNGQ sp|Q23KG5||agc:agc-sar|Tetrahymena\n",
      "IKTL-AFGQ sp|Q23DN8||agc:agc-sar|Tetrahymena\n",
      "IKKL-GVGQ sp|I7MFS4||agc:agc-sar|Tetrahymena\n",
      "IKKL-GFGQ sp|I7M3B5||agc:agc-sar|Tetrahymena\n",
      "IKKL-GFGQ sp|I7MD55||agc:agc-sar|Tetrahymena\n",
      "IKKL-GEGQ sp|Q869J9|pkg-2|agc:pkg|Paramecium\n",
      "IRVL-GKGC sp|A8N3F0||agc:agc-unique|Coprinopsis\n"
     ]
    },
    {
     "data": {
      "text/plain": [
       "1"
      ]
     },
     "execution_count": 7,
     "metadata": {},
     "output_type": "execute_result"
    }
   ],
   "source": [
    "from Bio import AlignIO\n",
    "align1 = AlignIO.read(\"kinases.txt\", \"fasta\")\n",
    "sub_alignment = align1[:10,3:12]\n",
    "print(sub_alignment)\n",
    "AlignIO.write(sub_alignment,\"msa1.aln\",\"clustal\")"
   ]
  },
  {
   "cell_type": "markdown",
   "metadata": {},
   "source": [
    "## Running BLAST over the internet\n",
    "Biopython offers a functionality to programmatically run BLAST on the NCBI servers using the `Bio.Blast` class."
   ]
  },
  {
   "cell_type": "markdown",
   "metadata": {},
   "source": [
    "To run blast online at NCBI servers, `Bio.Blast` can be used which has different function to run Blast and also to parse the output. The `NCBIWWW` library has `qblast()` function that takes three arguments &emdash; 1) blast program (blastp, blastn, etc.), 2) database (any of the databases available at NCBI, and 3) sequence. Once the blast serach is over the output can be saved in a file. This output would be in XML format. You can use `read()` function within the NCBIXML class to parse this output. The code below shows running a blast search using `qblast` against the non-redundant database available at in NCBI.\n",
    "The output file saved in the previous step has all the hits identified in the Blast search. These hits follow a hierarchical manner such that each result would have multiple alignments and within each alignment would be multiple high scoring pairs (hsps) i.e. Blast object $\\longrightarrow$ Alignment $\\longrightarrow$ hsps. For more details on this you may refer to the Blast documentation available at NCBI.\n"
   ]
  },
  {
   "cell_type": "code",
   "execution_count": 8,
   "metadata": {},
   "outputs": [],
   "source": [
    "from Bio.Blast import NCBIWWW\n",
    "from Bio.Blast import NCBIXML\n",
    "\n",
    "result_ncbi = NCBIWWW.qblast(\"blastn\", \"nt\", \"8332116\")\n",
    "with open(\"my_blast.xml\", \"w\") as file_handle:\n",
    "    file_handle.write(result_ncbi.read())"
   ]
  },
  {
   "cell_type": "code",
   "execution_count": 9,
   "metadata": {},
   "outputs": [
    {
     "name": "stdout",
     "output_type": "stream",
     "text": [
      "Score 482 (435 bits), expectation 3.6e-117, alignment length 624\n",
      "Query:      59 ACAGAAAATGGGGAGAGAAATGAAGTACTTGGCCATGAAAACTGA...GTA 678\n",
      "               || ||||||||| |||| | |||| ||  |||| |||| | ||||... ||\n",
      "Sbjct:     278 ACCGAAAATGGGCAGAGGAGTGAATTATATGGCAATGACACCTGA...TTA 901\n",
      "Score 468 (423 bits), expectation 2.3e-113, alignment length 590\n",
      "Query:      63 AAAATGGGGAGAGAAATGAAGTACTTGGCCATGAAAACTGATCAA...CCC 649\n",
      "               |||||||| |||  |||| | || ||||| |||||||| || |||...|||\n",
      "Sbjct:      11 AAAATGGGTAGACGAATGGATTATTTGGCGATGAAAACCGAGCAA...CCC 600\n",
      "Score 448 (405 bits), expectation 6.0e-108, alignment length 597\n",
      "Query:      87 TTGGCCATGAAAACTGATCAATTGGCCGTGGCTAATATGATCGAT...TAG 679\n",
      "               ||||||||||||||||| ||| ||||  |||||||| |||| |||...|||\n",
      "Sbjct:      81 TTGGCCATGAAAACTGAGCAAATGGCGTTGGCTAATTTGATAGAT...TAG 677\n",
      "Score 441 (398 bits), expectation 9.0e-106, alignment length 593\n",
      "Query:      65 AATGGGGAGAGAAATGAAGTACTTGGCCATGAAAACTGATCAATT...CTG 655\n",
      "               ||||||||| |||  | |  | |||||||||||||||||||    ... ||\n",
      "Sbjct:     254 AATGGGGAG-GAA--GGATAATTTGGCCATGAAAACTGATCC---...ATG 838\n",
      "Score 439 (397 bits), expectation 3.1e-105, alignment length 596\n",
      "Query:      63 AAAATGGGGAGAGAAATGAAGTACTTGGCCATGAAAACTGATCAA...CTG 655\n",
      "               |||||||||||    ||| |||  ||||| |||| |||||||| |...|||\n",
      "Sbjct:     170 AAAATGGGGAGG---ATGGAGTTTTTGGCTATGAGAACTGATCCA...CTG 756\n"
     ]
    }
   ],
   "source": [
    "result_handle = open(\"my_blast.xml\")\n",
    "blast_record = NCBIXML.read(result_handle)\n",
    "count = 0\n",
    "for alignment in blast_record.alignments:\n",
    "    for hsp in alignment.hsps:\n",
    "        print(hsp)\n",
    "    count += 1\n",
    "    if(count==5):\n",
    "        break\n"
   ]
  },
  {
   "cell_type": "markdown",
   "metadata": {},
   "source": [
    "The `hsps` object has several attributes including the Blast statistics such as evalue, score, positives, etc. These can be used to extract hits based on certain conditions. E.g., the code below shows saving hits from the previous Blast search with evalue greater than 1e-105 to a new file. "
   ]
  },
  {
   "cell_type": "code",
   "execution_count": 13,
   "metadata": {},
   "outputs": [
    {
     "name": "stdout",
     "output_type": "stream",
     "text": [
      "DONE\n"
     ]
    }
   ],
   "source": [
    "with open(\"new_file.txt\", \"w\") as file_handle:\n",
    "    for alignment in blast_record.alignments:\n",
    "        for hsp in alignment.hsps:\n",
    "            if (hsp.expect < 1e-105):\n",
    "                file_handle.write(str(hsp)+\"\\n\")\n",
    "            file_handle.write(\"\\n\")\n",
    "print(\"DONE\")"
   ]
  },
  {
   "cell_type": "markdown",
   "metadata": {},
   "source": [
    "### BLAST search using sequence file\n",
    "To run the Blast search using a sequence file instead of gi number, we first need to create a seqeunce object and then pass it on to the `qblast` function as shown below. To run this code, save the protein sequence below in a new file example1.fasta."
   ]
  },
  {
   "cell_type": "markdown",
   "metadata": {},
   "source": [
    "   MFHPGMTSQPSTSNQMYYDPLYGAEQIVQCNPMDYHQANILCGMQYFNNSHNRYPLLPQMPPQFTNDHPY\n",
    "   DFPNVPTISTLDEASSFNGFLIPSQPSSYNNNNISCVFTPTPCTSSQASSQPPPTPTVNPTPIPPNAGAV\n",
    "   LTTAMDSCQQISHVLQCYQQGGEDSDFVRKAIESLVKKLKDKRIELDALITAVTSNGKQPTGCVTIQRSL\n",
    "   DGRLQVAGRKGVPHVVYARIWRWPKVSKNELVKLVQCQTSSDHPDNICINPYHYERVVSNRITSADQSLH\n",
    "   VENSPMKSEYLGDAGVIDSCSDWPNTPPDNNFNGGFAPDQPQLVTPIISDIPIDLNQIYVPTPPQLLDNW\n",
    "   CSIIYYELDTPIGETFKVSARDHGKVIVDGGMDPHGENEGRLCLGALSNVHRTEASEKARIHIGRGVELT\n",
    "   AHADGNISITSNCKIFVRSGYLDYTHGSEYSSKAHRFTPNESSFTVFDIRWAYMQMLRRSRSSNEAVRAQ\n",
    "   AAAVAGYAPMSVMPAIMPDSGVDRMRRDFCTIAISFVKAWGDVYQRKTIKETPCWIEVTLHRPLQILDQL\n",
    "   LKNSSQFGSS"
   ]
  },
  {
   "cell_type": "code",
   "execution_count": 14,
   "metadata": {},
   "outputs": [],
   "source": [
    "from Bio.Blast import NCBIWWW\n",
    "from Bio.Blast import NCBIXML"
   ]
  },
  {
   "cell_type": "code",
   "execution_count": 16,
   "metadata": {},
   "outputs": [
    {
     "name": "stdout",
     "output_type": "stream",
     "text": [
      "sp|P45897.1| RecName: Full=Dwarfin sma-4; AltName: Full=MAD protein homolog 3 [Caenorhabditis elegans] >gb|AAA97605.1| SMA-4 [Caenorhabditis elegans]\n",
      "           Length = 570\n",
      "\n"
     ]
    }
   ],
   "source": [
    "seq_file = open('example1.fasta')\n",
    "result_handle2 = NCBIWWW.qblast(\"blastp\", \"nr\", seq_file.read())\n",
    "seq_file.close()\n",
    "with open(\"test_blast.xml\", \"w\") as out_handle:\n",
    "    out_handle.write(result_handle2.read())\n",
    "blast_output = open(\"test_blast.xml\")    \n",
    "blast_record = NCBIXML.read(blast_output)\n",
    "print(blast_record.alignments[0])"
   ]
  },
  {
   "cell_type": "markdown",
   "metadata": {},
   "source": [
    "Let's say we need only the alignment with the mouse sequence, then, to print first 50 characters of each alignment with the mouse sequence along with corresponding statistics, the following code can be used."
   ]
  },
  {
   "cell_type": "code",
   "execution_count": 17,
   "metadata": {},
   "outputs": [
    {
     "name": "stdout",
     "output_type": "stream",
     "text": [
      "ref|NP_001351897.1| mothers against decapentaplegic homolog 4 isoform 3 [Mus musculus] >gb|ADO32892.1| mothers against decapentaplegic-like protein 4 splice variant 3 [Mus musculus]\n",
      "TAMDSCQQISHVLQCYQQGGEDSDFVRKAIESLVKKLKDKRIELDALITA\n",
      "T+ D+C  I H L C++QGGE   F ++AIESLVKKLK+K+ ELD+LITA\n",
      "TSNDACLSIVHSLMCHRQGGESETFAKRAIESLVKKLKEKKDELDSLITA\n",
      "272 794.0 6.86183e-96\n"
     ]
    }
   ],
   "source": [
    "for alignment in blast_record.alignments:\n",
    "    if \"musculus\" in alignment.title:\n",
    "        print(alignment.title)\n",
    "        for hsp in alignment.hsps:\n",
    "            print(hsp.query[0:50])\n",
    "            print(hsp.match[0:50])\n",
    "            print(hsp.sbjct[0:50])\n",
    "            print(hsp.positives, hsp.score, hsp.expect)\n"
   ]
  },
  {
   "cell_type": "markdown",
   "metadata": {},
   "source": [
    "To save the Blast output in csv format, we can use the `csv` library as shown below."
   ]
  },
  {
   "cell_type": "code",
   "execution_count": 19,
   "metadata": {},
   "outputs": [],
   "source": [
    "import csv\n",
    "csv_out = open(\"blast_out.csv\", \"w\", newline='')\n",
    "for alignment in blast_record.alignments:\n",
    "    for hsp in alignment.hsps:\n",
    "        new_row = csv.writer(csv_out, delimiter=\",\")\n",
    "        new_row.writerow([alignment.title.split(\"|\")[-1], hsp.positives, hsp.expect])\n",
    "csv_out.close()\n"
   ]
  }
 ],
 "metadata": {
  "kernelspec": {
   "display_name": "bio-env",
   "language": "python",
   "name": "bio-env"
  },
  "language_info": {
   "codemirror_mode": {
    "name": "ipython",
    "version": 3
   },
   "file_extension": ".py",
   "mimetype": "text/x-python",
   "name": "python",
   "nbconvert_exporter": "python",
   "pygments_lexer": "ipython3",
   "version": "3.8.11"
  }
 },
 "nbformat": 4,
 "nbformat_minor": 2
}
