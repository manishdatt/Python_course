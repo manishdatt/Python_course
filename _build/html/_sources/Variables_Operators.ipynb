{
 "cells": [
  {
   "cell_type": "markdown",
   "metadata": {},
   "source": [
    "## Variables"
   ]
  },
  {
   "cell_type": "markdown",
   "metadata": {},
   "source": [
    "In programming variables refers to a \"name\" for a value. This \"name\" can have different values over the course of program and hence it is referred as a variable. \n",
    "The concept of variable in programming is similar to some of terms used in natural languages to refer to different things. For instance, in a classroom there are students with different _names_. Here the word _name_ is a variable which has differnt _value_ for each student i.e. their name."
   ]
  },
  {
   "cell_type": "code",
   "execution_count": 1,
   "metadata": {},
   "outputs": [],
   "source": [
    "a = 2"
   ]
  },
  {
   "cell_type": "markdown",
   "metadata": {},
   "source": [
    "The above statement initializes a variable named 'a' with a numeric value of 2 and it is refered to as an **Assignment Statement**. Similarly, the statement below initializes a variable with name 'test' and assigns a string value of 'Happy'"
   ]
  },
  {
   "cell_type": "code",
   "execution_count": 2,
   "metadata": {},
   "outputs": [],
   "source": [
    "test = 'Happy'"
   ]
  },
  {
   "cell_type": "markdown",
   "metadata": {},
   "source": [
    "We can print the value of a variable using the `print` command i.e."
   ]
  },
  {
   "cell_type": "code",
   "execution_count": 4,
   "metadata": {},
   "outputs": [
    {
     "name": "stdout",
     "output_type": "stream",
     "text": [
      "2\n"
     ]
    }
   ],
   "source": [
    "print(a)"
   ]
  },
  {
   "cell_type": "code",
   "execution_count": 6,
   "metadata": {},
   "outputs": [
    {
     "name": "stdout",
     "output_type": "stream",
     "text": [
      "Happy\n"
     ]
    }
   ],
   "source": [
    "print(test)"
   ]
  },
  {
   "cell_type": "markdown",
   "metadata": {},
   "source": [
    "The value assigned to a variable can be changed within the program. This feautre make variable very useful and are extensively used in progamming. A variable, for example, can be used to store user input. "
   ]
  },
  {
   "cell_type": "markdown",
   "metadata": {},
   "source": [
    "Each variable in Python has 6 properties associated with it. For now only first three are required since the last three are for advanced programmers. These properties are\n",
    "1. Name\n",
    "2. Value\n",
    "3. Type\n",
    "4. Scope\n",
    "5. Life time\n",
    "6. Memory location\n",
    "\n",
    "The firt two properties i.e. name and value we have already seen above. Type for a variable refers to it's data type i.e. whether the variable is an integer, float, string, boolean etc. "
   ]
  },
  {
   "cell_type": "markdown",
   "metadata": {},
   "source": [
    "In Python, the type for a variable is decided at the time of initialization. This behaviour is different from languages like C where the type of the variable has to be declared explicitly. In the example above, we can change the variable 'a' to a non numeric value. To check the type for a particular variable, `type()` function can be used as follows.\n"
   ]
  },
  {
   "cell_type": "code",
   "execution_count": 3,
   "metadata": {},
   "outputs": [
    {
     "name": "stdout",
     "output_type": "stream",
     "text": [
      "<class 'int'>\n",
      "<class 'str'>\n"
     ]
    }
   ],
   "source": [
    "print(type(a))\n",
    "print(type(test))"
   ]
  },
  {
   "cell_type": "code",
   "execution_count": null,
   "metadata": {},
   "outputs": [],
   "source": [
    "x = 7\n",
    "y = 7.0\n",
    "print(type(x))\n",
    "print(type(y))"
   ]
  },
  {
   "cell_type": "markdown",
   "metadata": {
    "collapsed": true
   },
   "source": [
    "Variable names are case sensitive, e.g. in the code below there are four different variables such that their name differ only in the case used for the letters.\n"
   ]
  },
  {
   "cell_type": "code",
   "execution_count": 12,
   "metadata": {},
   "outputs": [
    {
     "name": "stdout",
     "output_type": "stream",
     "text": [
      "4\n",
      "5\n",
      "6\n",
      "7\n"
     ]
    }
   ],
   "source": [
    "bat = 4\n",
    "BAT = 5\n",
    "Bat = 6\n",
    "bAT = 7\n",
    "print (bat)\n",
    "print (BAT)\n",
    "print (Bat)\n",
    "print (bAT)"
   ]
  },
  {
   "cell_type": "markdown",
   "metadata": {},
   "source": [
    "## Operators"
   ]
  },
  {
   "cell_type": "markdown",
   "metadata": {},
   "source": [
    "An operator is a special symbol that instructs the compiler/interpreter to execute specific mathematical or logical operations. These symbols _operate_ on set of variable or scaler or both. Operand refers to the value that operator operates on. E.g., in the equation 2+3 '+' is an operator and 2 and 3 are operands. "
   ]
  },
  {
   "cell_type": "markdown",
   "metadata": {},
   "source": [
    "In Python there are 6 different classes of operators. These are:\n",
    "1. Arithmetic operators\n",
    "2. Comparison operators\n",
    "3. Logical operators\n",
    "4. Assignment operators\n",
    "5. Bitwise operators\n",
    "6. Special operators\n",
    "\n",
    "Let's understand each of these classes through some examples"
   ]
  },
  {
   "cell_type": "markdown",
   "metadata": {},
   "source": [
    "### Arithmetic operators\n",
    "As the name suggests this class of operators are used to perform mathematical operation on the operands. Following is the list of arithemetic operators available in Python."
   ]
  },
  {
   "cell_type": "markdown",
   "metadata": {},
   "source": [
    "| Operator Symbol | Meaning | Example |\n",
    "| :---: | --- | --- | \n",
    "| + | Addition | 2 + 2 = 4 | \n",
    "| - | Subtraction | 5 - 2 = 3 |\n",
    "| * | Multiplication | 2 * 3 = 6 |\n",
    "| / | Division | 4 / 2 = 2|\n",
    "| % | Modulus | 4 % 2 = 0 |\n",
    "| // | Floor division | 5 // 2 = 2 |\n",
    "| ** | Exponent | 2 ** 3 = 8 | "
   ]
  },
  {
   "cell_type": "code",
   "execution_count": 4,
   "metadata": {},
   "outputs": [
    {
     "name": "stdout",
     "output_type": "stream",
     "text": [
      "11\n",
      "1\n"
     ]
    }
   ],
   "source": [
    "x = 4\n",
    "y = 5\n",
    "\n",
    "print (x+y+2)\n",
    "print (x-y+2)"
   ]
  },
  {
   "cell_type": "markdown",
   "metadata": {},
   "source": [
    "### Comparison operator\n",
    "These operators are used to compare operands and the output from their operation is a boolean value i.e. either `True` or `False` or equivalently `1` or `0`."
   ]
  },
  {
   "cell_type": "markdown",
   "metadata": {},
   "source": [
    "Following is the list of arithemetic operators available in Python.\n",
    "\n",
    "| Operator Symbol | Meaning | Example |\n",
    "| :---: | --- | --- | \n",
    "| > | Greater than | 3 > 2 is `True` | \n",
    "| < | Less than | 3 < 2 is `False` |\n",
    "| == | Equal to | 2 == 3 is `False` |\n",
    "| != | Not equal to | 2 != 3 is `True` |\n",
    "| >= | Greater than or equal to | 4 >= 2 is `True` |\n",
    "| <= | Less than or equal to | 5 <= 2 is `False` |"
   ]
  },
  {
   "cell_type": "code",
   "execution_count": 5,
   "metadata": {},
   "outputs": [
    {
     "name": "stdout",
     "output_type": "stream",
     "text": [
      "False\n"
     ]
    }
   ],
   "source": [
    "x = 4\n",
    "y = 5\n",
    "print (x+y > 10)"
   ]
  },
  {
   "cell_type": "markdown",
   "metadata": {},
   "source": [
    "### Logical operators"
   ]
  },
  {
   "cell_type": "markdown",
   "metadata": {},
   "source": [
    "There are 3 logical operators `and`, `or`, and `not`.\n",
    "\n",
    "| Operator Symbol | Meaning |\n",
    "| :---: | --- |\n",
    "| and | True if both operands are true |\n",
    "| or | True if either of the operands is true |\n",
    "| not | True if operands are false |\n"
   ]
  },
  {
   "cell_type": "code",
   "execution_count": 14,
   "metadata": {},
   "outputs": [
    {
     "name": "stdout",
     "output_type": "stream",
     "text": [
      "False\n",
      "True\n",
      "False\n"
     ]
    }
   ],
   "source": [
    "x = True\n",
    "y = False\n",
    "print (x and y)\n",
    "print (x or y)\n",
    "print (not x)"
   ]
  },
  {
   "cell_type": "code",
   "execution_count": 9,
   "metadata": {},
   "outputs": [
    {
     "name": "stdout",
     "output_type": "stream",
     "text": [
      "True\n"
     ]
    }
   ],
   "source": [
    "x=5\n",
    "y=6\n",
    "z=7\n",
    "print (x<y and y<z)"
   ]
  },
  {
   "cell_type": "markdown",
   "metadata": {},
   "source": [
    "### Assignment operators\n",
    "Operators in this class are used to `assign` values to variables. The syntax for using these operators is variable name followed by operator followed by the value that is to be assigned. Some of the assignment operator behave equivalent to the mathematical operation performed by arithmetic operators."
   ]
  },
  {
   "cell_type": "markdown",
   "metadata": {},
   "source": [
    "Following is the list of assignment operators available in Python.\n",
    "\n",
    "| Operator Symbol | Meaning | Example |\n",
    "| :---: | --- | --- | \n",
    "| = | Assign value on the right to variable on the left | x = 5 | \n",
    "| += | Increment value of the variable by value on the right | x += 5 (x = x + 5) |\n",
    "| -= | Decrement value of the variable by value on the right | x -= 5 (x = x - 5) |\n",
    "| *= | Multiple value of the variable by value on the right | x *= 5 (x = x * 5) |\n",
    "| /= | Divide value of the variable by value on the right | x /= 5 (x = x / 5) |\n",
    "| %= | Modulus for the value of the variable by value on the right | x %= 5 (x = x % 5) |\n",
    "| //= | Floor division of value of the variable by value on the right | x //= 5 (x = x // 5) |\n",
    "| **= | Exponent value of the variable by value on the right | x &ast;&ast;= 5 (x = x &ast;&ast; 5) |\n"
   ]
  },
  {
   "cell_type": "code",
   "execution_count": 6,
   "metadata": {},
   "outputs": [
    {
     "name": "stdout",
     "output_type": "stream",
     "text": [
      "12\n",
      "25\n"
     ]
    }
   ],
   "source": [
    "x = 6\n",
    "y = 5\n",
    "x *= 2\n",
    "y **= 2\n",
    "print (x)\n",
    "print (y)"
   ]
  },
  {
   "cell_type": "code",
   "execution_count": 8,
   "metadata": {},
   "outputs": [
    {
     "name": "stdout",
     "output_type": "stream",
     "text": [
      "<class 'bool'>\n"
     ]
    }
   ],
   "source": [
    "x = False\n",
    "print(type(x))"
   ]
  }
 ],
 "metadata": {
  "anaconda-cloud": {},
  "kernelspec": {
   "display_name": "Python 3 (ipykernel)",
   "language": "python",
   "name": "python3"
  },
  "language_info": {
   "codemirror_mode": {
    "name": "ipython",
    "version": 3
   },
   "file_extension": ".py",
   "mimetype": "text/x-python",
   "name": "python",
   "nbconvert_exporter": "python",
   "pygments_lexer": "ipython3",
   "version": "3.8.11"
  }
 },
 "nbformat": 4,
 "nbformat_minor": 2
}
