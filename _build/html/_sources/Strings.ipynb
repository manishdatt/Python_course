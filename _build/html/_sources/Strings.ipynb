{
 "cells": [
  {
   "cell_type": "markdown",
   "metadata": {},
   "source": [
    "## Strings"
   ]
  },
  {
   "cell_type": "markdown",
   "metadata": {},
   "source": [
    "In programming string refers to a sequence of characters that can act as a variable or constant. This is the most popular data type in Python. In fact the increasingly strong prevelance of Python in Bioinformatics is primarily due to its ability to easily perform different operations of strings. A string variable can be assigned using single or double quotes."
   ]
  },
  {
   "cell_type": "code",
   "execution_count": 1,
   "metadata": {},
   "outputs": [
    {
     "name": "stdout",
     "output_type": "stream",
     "text": [
      "String A\n",
      "String B\n"
     ]
    }
   ],
   "source": [
    "var1 = 'String A'\n",
    "var2 = \"String B\"\n",
    "print (var1)\n",
    "print (var2)"
   ]
  },
  {
   "cell_type": "markdown",
   "metadata": {},
   "source": [
    "Value for a string variable can be changed simple by reassigning with a new value."
   ]
  },
  {
   "cell_type": "code",
   "execution_count": 2,
   "metadata": {},
   "outputs": [
    {
     "name": "stdout",
     "output_type": "stream",
     "text": [
      "String number two\n",
      "Another string\n"
     ]
    }
   ],
   "source": [
    "var1 = 'String number two'\n",
    "print (var1)\n",
    "print(\"Another string\")"
   ]
  },
  {
   "cell_type": "markdown",
   "metadata": {},
   "source": [
    "Length of the string can be determined using the `len` function."
   ]
  },
  {
   "cell_type": "code",
   "execution_count": 3,
   "metadata": {},
   "outputs": [
    {
     "data": {
      "text/plain": [
       "8"
      ]
     },
     "execution_count": 3,
     "metadata": {},
     "output_type": "execute_result"
    }
   ],
   "source": [
    "len(var2)"
   ]
  },
  {
   "cell_type": "code",
   "execution_count": 4,
   "metadata": {},
   "outputs": [
    {
     "name": "stdout",
     "output_type": "stream",
     "text": [
      "HelloWorld\n"
     ]
    }
   ],
   "source": [
    "var1 = 'Hello'\n",
    "var2 = 'World'\n",
    "print(var1+var2)"
   ]
  },
  {
   "cell_type": "markdown",
   "metadata": {},
   "source": [
    "### String concatenation\n",
    "The arithmetic operator + and * can be used directly with string to concatenate (addition) or repeat (multiplication)."
   ]
  },
  {
   "cell_type": "code",
   "execution_count": null,
   "metadata": {},
   "outputs": [],
   "source": [
    "\"Hello\"+\"World\""
   ]
  },
  {
   "cell_type": "code",
   "execution_count": null,
   "metadata": {},
   "outputs": [],
   "source": [
    "var1 = \"Hello\"\n",
    "var2 = \"World!\"\n",
    "print (var1+var2)"
   ]
  },
  {
   "cell_type": "code",
   "execution_count": 5,
   "metadata": {},
   "outputs": [
    {
     "name": "stdout",
     "output_type": "stream",
     "text": [
      "HelloHelloHello\n"
     ]
    }
   ],
   "source": [
    "var3 = var1*3\n",
    "print(var3)\n",
    "\n",
    "5*3\n",
    "5+5+5"
   ]
  },
  {
   "cell_type": "markdown",
   "metadata": {},
   "source": [
    "### Slice of a string\n",
    "Slice is another very useful operator that can be used to manipulate strings. The slice operator `[]` gives the character within the start and end positions separated by a colon. The numbering of characters within a string start from 0. Note that the start position character is included in the output but the end position character is not. Slicing effectively return the substring of a given string. The general syntax for slicing a string is as follows:"
   ]
  },
  {
   "cell_type": "raw",
   "metadata": {},
   "source": [
    "string[start:end]\n",
    "string[start:]\n",
    "string[:end]\n",
    "string[start:end:step]\n",
    "string[:]"
   ]
  },
  {
   "cell_type": "code",
   "execution_count": 6,
   "metadata": {},
   "outputs": [
    {
     "data": {
      "text/plain": [
       "'BCDE'"
      ]
     },
     "execution_count": 6,
     "metadata": {},
     "output_type": "execute_result"
    }
   ],
   "source": [
    "var4 = \"ABCDEFG\"\n",
    "var4[1:5]"
   ]
  },
  {
   "cell_type": "markdown",
   "metadata": {},
   "source": [
    "In case no value is specified before or after the colon then the slicing would occur from begining or till end respectively."
   ]
  },
  {
   "cell_type": "code",
   "execution_count": 8,
   "metadata": {},
   "outputs": [
    {
     "name": "stdout",
     "output_type": "stream",
     "text": [
      "HelloHelloHello\n"
     ]
    }
   ],
   "source": [
    "print(var3)"
   ]
  },
  {
   "cell_type": "code",
   "execution_count": 7,
   "metadata": {},
   "outputs": [
    {
     "data": {
      "text/plain": [
       "'HelloHe'"
      ]
     },
     "execution_count": 7,
     "metadata": {},
     "output_type": "execute_result"
    }
   ],
   "source": [
    "var3[:7]"
   ]
  },
  {
   "cell_type": "code",
   "execution_count": 9,
   "metadata": {},
   "outputs": [
    {
     "data": {
      "text/plain": [
       "'loHelloHello'"
      ]
     },
     "execution_count": 9,
     "metadata": {},
     "output_type": "execute_result"
    }
   ],
   "source": [
    "var3[3:]"
   ]
  },
  {
   "cell_type": "code",
   "execution_count": 13,
   "metadata": {},
   "outputs": [
    {
     "name": "stdout",
     "output_type": "stream",
     "text": [
      "HelloHelloHello\n"
     ]
    },
    {
     "data": {
      "text/plain": [
       "'loelHlo'"
      ]
     },
     "execution_count": 13,
     "metadata": {},
     "output_type": "execute_result"
    }
   ],
   "source": [
    "print(var3)\n",
    "var3[2::2]"
   ]
  },
  {
   "cell_type": "markdown",
   "metadata": {},
   "source": [
    "To get just one character within a string use the index of that character within the slice operator."
   ]
  },
  {
   "cell_type": "code",
   "execution_count": null,
   "metadata": {},
   "outputs": [],
   "source": [
    "var3"
   ]
  },
  {
   "cell_type": "code",
   "execution_count": 14,
   "metadata": {},
   "outputs": [
    {
     "name": "stdout",
     "output_type": "stream",
     "text": [
      "HHH\n"
     ]
    }
   ],
   "source": [
    "##Exercise \n",
    "## write a command that outputs 'HHH' given a string 'HelloHelloHello'\n",
    "## Solution goes below\n",
    "\n",
    "print(var3[::5])"
   ]
  },
  {
   "cell_type": "markdown",
   "metadata": {},
   "source": [
    "To declare a variable whose value is a long string that spans multiple lines tripple quotes can be used. Conceptually, tripple quotes allows newline and tabs to be incorporated verbatim."
   ]
  },
  {
   "cell_type": "code",
   "execution_count": 15,
   "metadata": {},
   "outputs": [
    {
     "name": "stdout",
     "output_type": "stream",
     "text": [
      "This is an example of\n",
      "a long string that spans \n",
      "three lines.\n"
     ]
    }
   ],
   "source": [
    "var4 = \"\"\"This is an example of\n",
    "a long string that spans \n",
    "three lines.\"\"\"\n",
    "print (var4)"
   ]
  },
  {
   "cell_type": "markdown",
   "metadata": {
    "collapsed": true
   },
   "source": [
    "### String comparison\n",
    "One of the frequently required tasks in programming is string comparison. In Python comparison operator can be used to compare two strings. "
   ]
  },
  {
   "cell_type": "code",
   "execution_count": 16,
   "metadata": {},
   "outputs": [
    {
     "name": "stdout",
     "output_type": "stream",
     "text": [
      "True\n",
      "False\n"
     ]
    }
   ],
   "source": [
    "var1 = 'Hello' \n",
    "var2 = 'Hello'\n",
    "var3 = 'Hi'\n",
    "print(var1 == var2)\n",
    "print(var1 == var3)"
   ]
  },
  {
   "cell_type": "markdown",
   "metadata": {},
   "source": [
    "String comparison is case sensitive."
   ]
  },
  {
   "cell_type": "code",
   "execution_count": null,
   "metadata": {},
   "outputs": [],
   "source": [
    "var3 = 'hello'\n",
    "print(var1 == var3)"
   ]
  },
  {
   "cell_type": "markdown",
   "metadata": {},
   "source": [
    "### String are immutable\n",
    "In Python the strings are immutable i.e. their value cannot be changed once it has been assigned. The values can however be reassigned. The variable or label for a string can change but the data contained within the variable can`t be changed"
   ]
  },
  {
   "cell_type": "code",
   "execution_count": null,
   "metadata": {},
   "outputs": [],
   "source": [
    "var1 = 'Hi'\n",
    "var2 = var1\n",
    "var1 = var1*3\n",
    "print(var1)\n",
    "print(var2)\n",
    "var2 = 'Hello'\n",
    "print(var2)"
   ]
  },
  {
   "cell_type": "code",
   "execution_count": null,
   "metadata": {},
   "outputs": [],
   "source": []
  },
  {
   "cell_type": "markdown",
   "metadata": {},
   "source": [
    "### Spliting string\n",
    "Sometimes there is a need to split a string based on certain delimiters, the `split` function is designed for that task. Python String types have `split` function associated with them that return a list of elements after spliting the string as per the delimiter (default is space)."
   ]
  },
  {
   "cell_type": "code",
   "execution_count": 17,
   "metadata": {},
   "outputs": [
    {
     "name": "stdout",
     "output_type": "stream",
     "text": [
      "['This', 'is', 'a', 'sentence.']\n",
      "['This is an another sentence', ' a longer one.']\n"
     ]
    }
   ],
   "source": [
    "s1 = \"This is a sentence.\"\n",
    "words1 = s1.split()\n",
    "print(words1)\n",
    "\n",
    "s2 = \"This is an another sentence, a longer one.\"\n",
    "words2 = s2.split(',')\n",
    "print(words2)"
   ]
  },
  {
   "cell_type": "code",
   "execution_count": null,
   "metadata": {},
   "outputs": [],
   "source": [
    "##Exercise - what would be the output when \"is\" is used as delimiter for spliting the above sentence. "
   ]
  },
  {
   "cell_type": "markdown",
   "metadata": {},
   "source": [
    "Python strings have methods `upper` and `lower` to change the case of the string. These methods acts on the string and returns a new string after changing the case."
   ]
  },
  {
   "cell_type": "code",
   "execution_count": 18,
   "metadata": {},
   "outputs": [
    {
     "name": "stdout",
     "output_type": "stream",
     "text": [
      "apple\n",
      "APPLE\n"
     ]
    }
   ],
   "source": [
    "s1 = 'apple'\n",
    "#print(s1)\n",
    "new_s1 = s1.upper()\n",
    "print(s1)\n",
    "print(new_s1)\n",
    "#s2 = new_s1.lower()\n",
    "#print(s2)"
   ]
  },
  {
   "cell_type": "code",
   "execution_count": null,
   "metadata": {},
   "outputs": [],
   "source": [
    "a = (3,4,4)\n",
    "print(type(a))\n",
    "b = [2,3,4]\n",
    "print(type(b))"
   ]
  },
  {
   "cell_type": "code",
   "execution_count": null,
   "metadata": {},
   "outputs": [],
   "source": [
    "print(not(3>4))"
   ]
  },
  {
   "cell_type": "code",
   "execution_count": null,
   "metadata": {},
   "outputs": [],
   "source": [
    "print(22.0/7)"
   ]
  },
  {
   "cell_type": "code",
   "execution_count": null,
   "metadata": {},
   "outputs": [],
   "source": [
    "print((3>4) and (3>5))"
   ]
  },
  {
   "cell_type": "markdown",
   "metadata": {},
   "source": [
    "## User input\n",
    "\n",
    "The input functions are different in 2.x and 3.x with former having `raw_input()` while the later has `input()`."
   ]
  },
  {
   "cell_type": "code",
   "execution_count": 19,
   "metadata": {},
   "outputs": [
    {
     "name": "stdout",
     "output_type": "stream",
     "text": [
      "Please enter your name: Manish\n",
      "The name entered is  Manish\n"
     ]
    }
   ],
   "source": [
    "name = input(\"Please enter your name: \")\n",
    "print(\"The name entered is \", name)"
   ]
  },
  {
   "cell_type": "code",
   "execution_count": 23,
   "metadata": {},
   "outputs": [
    {
     "name": "stdout",
     "output_type": "stream",
     "text": [
      "2\n",
      "<class 'str'>\n"
     ]
    }
   ],
   "source": [
    "a = \"2\"\n",
    "print(a)\n",
    "print(type(a))"
   ]
  },
  {
   "cell_type": "code",
   "execution_count": 21,
   "metadata": {},
   "outputs": [
    {
     "name": "stdout",
     "output_type": "stream",
     "text": [
      "Please enter a number: 5\n",
      "6\n"
     ]
    }
   ],
   "source": [
    "number1 = input(\"Please enter a number: \")\n",
    "#print(number1+1)\n",
    "number2 = int(number1)\n",
    "print(number2+1)"
   ]
  },
  {
   "cell_type": "markdown",
   "metadata": {},
   "source": [
    "### Write a program that takes two numbers as input and prints the result of their comparison"
   ]
  },
  {
   "cell_type": "code",
   "execution_count": null,
   "metadata": {},
   "outputs": [],
   "source": [
    "num1 = int(input(\"Enter first number: \"))\n",
    "num2 = int(input(\"Enter second number: \"))\n",
    "if(num1<num2):\n",
    "    print(\"First number is less than the second number\")\n",
    "elif(num1>num2):\n",
    "    print(\"First number is greater than the second number\")\n",
    "else:\n",
    "    print(\"Both numbers are equal\")"
   ]
  },
  {
   "cell_type": "markdown",
   "metadata": {},
   "source": [
    "### Substring in a string\n",
    "Slicing can be used to get a substring of a string. To get the index of a substring in a string, `find()` can used. "
   ]
  },
  {
   "cell_type": "code",
   "execution_count": null,
   "metadata": {},
   "outputs": [],
   "source": [
    "##find(substr,start,end)\n",
    "str1 = \"What is your name?\"\n",
    "#str1 = \"This is a string\"\n",
    "index1 = str1.find(\"is\")\n",
    "print(index1)"
   ]
  },
  {
   "cell_type": "markdown",
   "metadata": {},
   "source": [
    "Get index for all occurence of a substring. Conditionals and loops...\n"
   ]
  },
  {
   "cell_type": "code",
   "execution_count": null,
   "metadata": {},
   "outputs": [],
   "source": [
    "i = 0 \n",
    "str2 = \"This is a string\"\n",
    "for x in range(len(str2)):\n",
    "    ind1 = str2.find(\"is\",i)\n",
    "    if(ind1==-1):\n",
    "        continue\n",
    "    else:\n",
    "        print(ind1)\n",
    "        i = ind1+1"
   ]
  },
  {
   "cell_type": "markdown",
   "metadata": {},
   "source": [
    "### Using `re` library"
   ]
  },
  {
   "cell_type": "code",
   "execution_count": null,
   "metadata": {},
   "outputs": [],
   "source": [
    "import re\n",
    "str3 = \"This is another sring\"\n",
    "all_indicies = re.finditer(\"is\",str3)\n",
    "##finditer returns match object\n",
    "for x in all_indicies:\n",
    "    print(x.start())"
   ]
  },
  {
   "cell_type": "code",
   "execution_count": null,
   "metadata": {},
   "outputs": [],
   "source": [
    "import numpy\n",
    "H_all = []\n",
    "W_all = []\n",
    "students_data = {\"Pooja\":(155,55), \"Preeti\":(160,60), \"Smita\":(165,65)}\n",
    "for k1,v1 in students_data.items():\n",
    "    H_all.append(v1[0])\n",
    "    W_all.append(v1[1])\n",
    "print(H_all)\n",
    "print(W_all)\n",
    "print (numpy.mean(H_all))\n",
    "print (numpy.mean(W_all))\n",
    "\n",
    "sum1=0\n",
    "for x in H_all:\n",
    "    sum1 += x\n",
    "print(sum1/len(H_all))\n",
    "\n",
    "sum2 = 0\n",
    "for y in W_all:\n",
    "    sum2 += y\n",
    "print(sum2/len(W_all))"
   ]
  },
  {
   "cell_type": "code",
   "execution_count": null,
   "metadata": {},
   "outputs": [],
   "source": []
  }
 ],
 "metadata": {
  "anaconda-cloud": {},
  "kernelspec": {
   "display_name": "Python 3 (ipykernel)",
   "language": "python",
   "name": "python3"
  },
  "language_info": {
   "codemirror_mode": {
    "name": "ipython",
    "version": 3
   },
   "file_extension": ".py",
   "mimetype": "text/x-python",
   "name": "python",
   "nbconvert_exporter": "python",
   "pygments_lexer": "ipython3",
   "version": "3.8.11"
  }
 },
 "nbformat": 4,
 "nbformat_minor": 2
}
